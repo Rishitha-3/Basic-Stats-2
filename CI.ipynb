{
 "cells": [
  {
   "cell_type": "code",
   "execution_count": 1,
   "id": "6701433c-09f4-4620-a091-7fb4563d9a87",
   "metadata": {},
   "outputs": [],
   "source": [
    "import pandas as pd\n",
    "import numpy as np\n",
    "from scipy import stats"
   ]
  },
  {
   "cell_type": "code",
   "execution_count": 2,
   "id": "712d14ac-bbfe-4557-9e20-f9ef5af3518d",
   "metadata": {},
   "outputs": [
    {
     "data": {
      "text/plain": [
       "0     1.13\n",
       "1     1.55\n",
       "2     1.43\n",
       "3     0.92\n",
       "4     1.25\n",
       "5     1.36\n",
       "6     1.32\n",
       "7     0.85\n",
       "8     1.07\n",
       "9     1.48\n",
       "10    1.20\n",
       "11    1.33\n",
       "12    1.18\n",
       "13    1.22\n",
       "14    1.29\n",
       "dtype: float64"
      ]
     },
     "execution_count": 2,
     "metadata": {},
     "output_type": "execute_result"
    }
   ],
   "source": [
    "data = pd.Series([1.13, 1.55, 1.43, 0.92, 1.25, 1.36, 1.32, 0.85, 1.07, 1.48, 1.20, 1.33, 1.18, 1.22, 1.29])\n",
    "data"
   ]
  },
  {
   "cell_type": "code",
   "execution_count": 11,
   "id": "3c1cb6cb-d37b-4764-8100-03d8ba916cf0",
   "metadata": {},
   "outputs": [],
   "source": [
    "# Sample mean\n",
    "x_bar = np.mean(data)\n",
    "\n",
    "# Sample standard deviation\n",
    "s = np.std(data, ddof=1)  # ddof=1 for sample standard deviation\n",
    "\n",
    "# Sample size\n",
    "n = len(data)\n",
    "\n",
    "# Degrees of freedom\n",
    "df = n - 1\n",
    "\n",
    "# Confidence level\n",
    "confidence_level = 0.99\n",
    "\n",
    "# Calculate the t-score for the given confidence level\n",
    "t_score = stats.t.ppf(1 - (1 - confidence_level) / 2, df)\n",
    "\n",
    "# Calculate the margin of error\n",
    "margin_of_error = t_score * (s / np.sqrt(n))\n",
    "\n",
    "# Calculate the confidence interval\n",
    "confidence_interval = (x_bar - margin_of_error, x_bar + margin_of_error)\n",
    "\n"
   ]
  },
  {
   "cell_type": "code",
   "execution_count": 14,
   "id": "b3fe4f9c-a96e-44ce-bdc8-aca14d452d3e",
   "metadata": {},
   "outputs": [
    {
     "name": "stdout",
     "output_type": "stream",
     "text": [
      "99% Confidence Interval using Sample Standard Deviation: (1.090197338451367, 1.3871359948819662)\n"
     ]
    }
   ],
   "source": [
    "print(\"99% Confidence Interval using Sample Standard Deviation:\",confidence_interval)"
   ]
  },
  {
   "cell_type": "code",
   "execution_count": 2,
   "id": "42fd4072-1b16-4841-a466-c0914acf759b",
   "metadata": {},
   "outputs": [
    {
     "data": {
      "text/plain": [
       "0     1.13\n",
       "1     1.55\n",
       "2     1.43\n",
       "3     0.92\n",
       "4     1.25\n",
       "5     1.36\n",
       "6     1.32\n",
       "7     0.85\n",
       "8     1.07\n",
       "9     1.48\n",
       "10    1.20\n",
       "11    1.33\n",
       "12    1.18\n",
       "13    1.22\n",
       "14    1.29\n",
       "dtype: float64"
      ]
     },
     "execution_count": 2,
     "metadata": {},
     "output_type": "execute_result"
    }
   ],
   "source": [
    "############################ Porpostion sample test#####################\n",
    "\n",
    "\n",
    "data = pd.Series([1.13, 1.55, 1.43, 0.92, 1.25, 1.36, 1.32, 0.85, 1.07, 1.48, 1.20, 1.33, 1.18, 1.22, 1.29])\n",
    "data"
   ]
  },
  {
   "cell_type": "code",
   "execution_count": 3,
   "id": "9fd4f513-1164-48f4-8f47-47222ea86798",
   "metadata": {},
   "outputs": [],
   "source": [
    "# Sample mean\n",
    "x_bar = np.mean(data)\n",
    "\n",
    "# Population standard deviation\n",
    "sigma = 0.2\n",
    "\n",
    "# Sample size\n",
    "n = len(data)\n",
    "\n",
    "# Confidence level\n",
    "confidence_level = 0.99\n",
    "\n",
    "# Calculate the Z-score for the given confidence level\n",
    "z_score = stats.norm.ppf(1 - (1 - confidence_level) / 2)\n",
    "\n",
    "# Calculate the margin of error\n",
    "margin_of_error = z_score * (sigma / np.sqrt(n))\n",
    "\n",
    "# Calculate the confidence interval\n",
    "confidence_interval = (x_bar - margin_of_error, x_bar + margin_of_error)\n",
    " "
   ]
  },
  {
   "cell_type": "code",
   "execution_count": 4,
   "id": "010eccc9-6786-4a8c-b668-4316b5ee8cef",
   "metadata": {},
   "outputs": [
    {
     "name": "stdout",
     "output_type": "stream",
     "text": [
      "99% Confidence Interval using Sample Standard Deviation: (1.1056514133957607, 1.3716819199375725)\n"
     ]
    }
   ],
   "source": [
    "print(\"99% Confidence Interval using Sample Standard Deviation:\",confidence_interval)"
   ]
  },
  {
   "cell_type": "code",
   "execution_count": 18,
   "id": "ee7a1367-bc47-4dc7-9356-e2a55f573a40",
   "metadata": {},
   "outputs": [
    {
     "data": {
      "text/plain": [
       "1.2386666666666666"
      ]
     },
     "execution_count": 18,
     "metadata": {},
     "output_type": "execute_result"
    }
   ],
   "source": [
    "data.mean()"
   ]
  },
  {
   "cell_type": "code",
   "execution_count": 23,
   "id": "81d9cfff-1aae-449f-a3e4-d830b42f56c9",
   "metadata": {},
   "outputs": [
    {
     "data": {
      "text/plain": [
       "array([1.13, 1.55, 1.43, 0.92, 1.25, 1.36, 1.32, 0.85, 1.07, 1.48, 1.2 ,\n",
       "       1.33, 1.18, 1.22, 1.29])"
      ]
     },
     "execution_count": 23,
     "metadata": {},
     "output_type": "execute_result"
    }
   ],
   "source": [
    "############################ Porpostion sample test using array#####################\n",
    "\n",
    "\n",
    "data = np.array([1.13, 1.55, 1.43, 0.92, 1.25, 1.36, 1.32, 0.85, 1.07, 1.48, 1.20, 1.33, 1.18, 1.22, 1.29])\n",
    "data"
   ]
  },
  {
   "cell_type": "code",
   "execution_count": 24,
   "id": "dd637b7c-aaed-41b0-b4a4-3bbe1cc667e9",
   "metadata": {},
   "outputs": [],
   "source": [
    "# Sample mean\n",
    "x_bar = np.mean(data)\n",
    "\n",
    "# Population standard deviation\n",
    "sigma = 0.2\n",
    "\n",
    "# Sample size\n",
    "n = len(data)\n",
    "\n",
    "# Confidence level\n",
    "confidence_level = 0.99\n",
    "\n",
    "# Calculate the Z-score for the given confidence level\n",
    "z_score = stats.norm.ppf(1 - (1 - confidence_level) / 2)\n",
    "\n",
    "# Calculate the margin of error\n",
    "margin_of_error = z_score * (sigma / np.sqrt(n))\n",
    "\n",
    "# Calculate the confidence interval\n",
    "confidence_interval = (x_bar - margin_of_error, x_bar + margin_of_error)\n",
    " "
   ]
  },
  {
   "cell_type": "code",
   "execution_count": 25,
   "id": "0e18cc7a-b7a4-449d-a4eb-7d874c2ebba7",
   "metadata": {},
   "outputs": [
    {
     "name": "stdout",
     "output_type": "stream",
     "text": [
      "99% Confidence Interval using Sample Standard Deviation: (1.1056514133957607, 1.3716819199375725)\n"
     ]
    }
   ],
   "source": [
    "print(\"99% Confidence Interval using Sample Standard Deviation:\",confidence_interval)"
   ]
  },
  {
   "cell_type": "code",
   "execution_count": null,
   "id": "81761cb4-5b2f-44cb-a8fb-42d0df807dc4",
   "metadata": {},
   "outputs": [],
   "source": []
  }
 ],
 "metadata": {
  "kernelspec": {
   "display_name": "Python 3 (ipykernel)",
   "language": "python",
   "name": "python3"
  },
  "language_info": {
   "codemirror_mode": {
    "name": "ipython",
    "version": 3
   },
   "file_extension": ".py",
   "mimetype": "text/x-python",
   "name": "python",
   "nbconvert_exporter": "python",
   "pygments_lexer": "ipython3",
   "version": "3.11.7"
  }
 },
 "nbformat": 4,
 "nbformat_minor": 5
}
